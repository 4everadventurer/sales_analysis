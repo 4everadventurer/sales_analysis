{
 "cells": [
  {
   "cell_type": "code",
   "execution_count": 8,
   "id": "f3de49ab-7311-4eaa-8ef7-cf608dc8c602",
   "metadata": {},
   "outputs": [
    {
     "name": "stdout",
     "output_type": "stream",
     "text": [
      "Monthly sales summary:\n",
      "      Month  total_sales  order_count\n",
      "0  2024-01       112.49            3\n",
      "1  2024-02       160.00            2\n",
      "2  2024-03        93.00            2\n",
      "\n",
      " Sales by Category:\n",
      " Category\n",
      "Stationery     18\n",
      "Electronics     6\n",
      "Name: Quantity, dtype: int64\n"
     ]
    }
   ],
   "source": [
    "import pandas as pd\n",
    "\n",
    "df=pd.read_csv(\"sales_data.csv\", parse_dates=[\"Date\"])\n",
    "\n",
    "#Calculating total amount\n",
    "df[\"TotalAmount\"]=df[\"Quantity\"]*df[\"Price\"]      \n",
    "\n",
    "df[\"Month\"]=df[\"Date\"].dt.to_period(\"M\")\n",
    "\n",
    "monthly_summary=df.groupby(\"Month\").agg(total_sales=(\"TotalAmount\",\"sum\"), order_count=(\"OrderID\",\"count\")).reset_index()\n",
    "\n",
    "print(\"Monthly sales summary:\\n\", monthly_summary)\n",
    "\n",
    "#Top-selling category\n",
    "top_category= df.groupby(\"Category\")[\"Quantity\"].sum().sort_values(ascending=False)\n",
    "print(\"\\n Sales by Category:\\n\", top_category)\n",
    "\n"
   ]
  },
  {
   "cell_type": "code",
   "execution_count": 10,
   "id": "e8f86e4c-542c-4cae-9016-4ff34d5aaa26",
   "metadata": {},
   "outputs": [
    {
     "name": "stdout",
     "output_type": "stream",
     "text": [
      "  Customer  TotalSpent\n",
      "0    David      150.00\n",
      "1      Eve       90.00\n",
      "2    Alice       65.49\n",
      "3      Bob       60.00\n"
     ]
    }
   ],
   "source": [
    "from pandasql import sqldf\n",
    "\n",
    "# 1. Period \n",
    "if 'Month' in df.columns and df['Month'].dtype.name == 'period[M]':\n",
    "    df['Month'] = df['Month'].astype(str)\n",
    "\n",
    "# 2.definition of pysqldf \n",
    "pysqldf = lambda q: sqldf(q, globals())\n",
    "\n",
    "# 3. SQL \n",
    "query1 = \"\"\"\n",
    "SELECT Customer, SUM(Quantity * Price) AS TotalSpent\n",
    "FROM df\n",
    "GROUP BY Customer\n",
    "ORDER BY TotalSpent DESC\n",
    "\"\"\"\n",
    "print(pysqldf(query1))\n"
   ]
  },
  {
   "cell_type": "code",
   "execution_count": null,
   "id": "0794e3c9-4342-4fd4-b2cc-2a7661263006",
   "metadata": {},
   "outputs": [],
   "source": []
  }
 ],
 "metadata": {
  "kernelspec": {
   "display_name": "Python 3 (ipykernel)",
   "language": "python",
   "name": "python3"
  },
  "language_info": {
   "codemirror_mode": {
    "name": "ipython",
    "version": 3
   },
   "file_extension": ".py",
   "mimetype": "text/x-python",
   "name": "python",
   "nbconvert_exporter": "python",
   "pygments_lexer": "ipython3",
   "version": "3.12.7"
  }
 },
 "nbformat": 4,
 "nbformat_minor": 5
}
